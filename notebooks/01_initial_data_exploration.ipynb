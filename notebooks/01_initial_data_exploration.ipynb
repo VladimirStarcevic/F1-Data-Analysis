{
 "cells": [
  {
   "cell_type": "code",
   "execution_count": 1,
   "id": "c1b886f6-26c8-4271-924b-ccfd9c9af3c3",
   "metadata": {},
   "outputs": [
    {
     "name": "stdout",
     "output_type": "stream",
     "text": [
      "--- HEADER ---\n",
      "['resultId', 'raceId', 'driverId', 'constructorId', 'number', 'grid', 'position', 'positionText', 'positionOrder', 'points', 'laps', 'time', 'milliseconds', 'fastestLap', 'rank', 'fastestLapTime', 'fastestLapSpeed', 'statusId']\n",
      "--------------------\n",
      "--- FIRST 5 ROWS OF DATA ---\n",
      "['25895', '1098', '830', '9', '1', '1', '1', '1', '1', '26', '57', '1:32:05.882', '5525882', '54', '3', '1:22.794', '226.741', '1']\n",
      "['25896', '1098', '815', '9', '11', '2', '2', '2', '2', '18', '57', '+5.384', '5531266', '56', '4', '1:22.868', '226.541', '1']\n",
      "['25897', '1098', '858', '1', '63', '3', '3', '3', '3', '15', '57', '+25.087', '5550969', '47', '7', '1:23.234', '225.535', '1']\n",
      "['25898', '1098', '844', '1', '16', '4', '4', '4', '4', '12', '57', '+35.676', '5561558', '42', '8', '1:23.279', '225.412', '1']\n",
      "['25899', '1098', '822', '131', '77', '10', '5', '5', '5', '10', '57', '+50.624', '5576506', '57', '1', '1:21.931', '228.916', '1']\n"
     ]
    }
   ],
   "source": [
    "import os\n",
    "import csv\n",
    "\n",
    "file_path = os.path.join('..', 'data', '2023_race_results.csv')\n",
    "\n",
    "try:\n",
    "    with open(file_path, 'r', encoding='utf-8') as f_in:\n",
    "        \n",
    "        csv_reader = csv.reader(f_in)\n",
    "        \n",
    "        \n",
    "        header = next(csv_reader)\n",
    "        print(\"--- HEADER ---\")\n",
    "        print(header)\n",
    "        print(\"-\" * 20)\n",
    "        \n",
    "        \n",
    "        print(\"--- FIRST 5 ROWS OF DATA ---\")\n",
    "        for i in range(5):\n",
    "            row = next(csv_reader)\n",
    "            print(row)\n",
    "\n",
    "except FileNotFoundError:\n",
    "    print(f\"ERROR: File not found at path '{file_path}'\")\n",
    "except Exception as e:\n",
    "    print(f\"An error occurred: {e}\")"
   ]
  },
  {
   "cell_type": "code",
   "execution_count": 1,
   "id": "cfcf2872-c883-40b4-9a3e-f448acad12df",
   "metadata": {},
   "outputs": [
    {
     "name": "stdout",
     "output_type": "stream",
     "text": [
      "Number of wins for Verstappen: 1\n"
     ]
    }
   ],
   "source": [
    "import os\n",
    "import csv\n",
    "\n",
    "data = \"data\"\n",
    "file_name = \"2023_race_results.csv\"\n",
    "file_path = os.path.join(\"..\", data, file_name)\n",
    "\n",
    "\n",
    "verstappen_wins = 0\n",
    "try:\n",
    "    with open(file_path, \"r\", encoding = 'utf-8') as f_in:\n",
    "\n",
    "        csv_reader = csv.reader(f_in)\n",
    "        header = next(csv_reader)\n",
    "\n",
    "        for row in csv_reader:\n",
    "            if row[2] == \"830\" and row[6] == \"1\" :\n",
    "                verstappen_wins += 1\n",
    "\n",
    "\n",
    "\n",
    "\n",
    "except FileNotFoundError:\n",
    "    print(f\"ERROR: File {file_name} not found\")\n",
    "except Exception as e:\n",
    "    print(f\"An error occurred: {e}\")\n",
    "\n",
    "print(f\"Number of wins for Verstappen: {verstappen_wins}\")"
   ]
  },
  {
   "cell_type": "code",
   "execution_count": 2,
   "id": "b6a2be04-bf2b-4cc0-a7b4-ac2533bff3ee",
   "metadata": {},
   "outputs": [
    {
     "name": "stdout",
     "output_type": "stream",
     "text": [
      "Number of wins for Max Verstappen (ID 830): 1\n",
      "Number of wins for Sergio Perez (ID 815): 0\n"
     ]
    }
   ],
   "source": [
    "import os\n",
    "import csv\n",
    "\n",
    "def calculate_wins_from_data(data_list, drivers_id):\n",
    "    count_wins = 0\n",
    "    for row in data_list[1:]:\n",
    "        if len(row) > 6 and row[2] == drivers_id and row[6] == \"1\":\n",
    "            count_wins += 1\n",
    "\n",
    "    return count_wins\n",
    "\n",
    "data = \"data\"\n",
    "file_name = \"2023_race_results.csv\"\n",
    "file_path = os.path.join(\"..\", data, file_name)\n",
    "\n",
    "try:\n",
    "    with open(file_path, \"r\", encoding = 'utf-8') as f_in:\n",
    "\n",
    "        all_race_data = list(csv.reader(f_in))\n",
    "\n",
    "        max_wins = calculate_wins_from_data(all_race_data, \"830\")\n",
    "        perez_wins = calculate_wins_from_data(all_race_data, \"815\")\n",
    "\n",
    "        print(f\"Number of wins for Max Verstappen (ID 830): {max_wins}\")\n",
    "        print(f\"Number of wins for Sergio Perez (ID 815): {perez_wins}\")\n",
    "\n",
    "except FileNotFoundError:\n",
    "    print(f\"ERROR: File {file_name} not found\")\n",
    "except Exception as e:\n",
    "    print(f\"An error occurred: {e}\")\n"
   ]
  },
  {
   "cell_type": "code",
   "execution_count": 3,
   "id": "499ae807-a689-48ef-811e-9924693cd777",
   "metadata": {},
   "outputs": [
    {
     "name": "stdout",
     "output_type": "stream",
     "text": [
      "============ F1 Team Analysis: =================\n",
      "{'9': 2, '1': 2, '131': 2, '3': 1, '214': 2, '210': 1}\n"
     ]
    }
   ],
   "source": [
    "import os\n",
    "import csv\n",
    "\n",
    "def count_points_by_constructor(data_list):\n",
    "    constructor_points_finishes = {}\n",
    "    for row in data_list[1:]:\n",
    "        positon_order = int(row[8])\n",
    "        if positon_order <= 10:\n",
    "            constructor_id = row[3]\n",
    "\n",
    "            if constructor_id in constructor_points_finishes:\n",
    "                constructor_points_finishes[constructor_id] += 1\n",
    "            else:\n",
    "                constructor_points_finishes[constructor_id] = 1\n",
    "    return constructor_points_finishes\n",
    "\n",
    "\n",
    "data = \"data\"\n",
    "file_name = \"2023_race_results.csv\"\n",
    "file_path = os.path.join(\"..\", data, file_name)\n",
    "\n",
    "\n",
    "try:\n",
    "    with open(file_path, \"r\", encoding = 'utf-8') as f_in:\n",
    "\n",
    "\n",
    "        all_race_list = list(csv.reader(f_in))\n",
    "\n",
    "        team_analysis_info = count_points_by_constructor(all_race_list)\n",
    "        print(f\"============ F1 Team Analysis: =================\\n{team_analysis_info}\")\n",
    "\n",
    "\n",
    "\n",
    "\n",
    "\n",
    "except FileNotFoundError:\n",
    "    print(f\"ERROR: File {file_name} not found\")\n",
    "except Exception as e:\n",
    "    print(f\"An error occurred: {e}\")"
   ]
  },
  {
   "cell_type": "code",
   "execution_count": 1,
   "id": "3f2e60c5-4a93-4fe1-b490-12cba81ef5e5",
   "metadata": {},
   "outputs": [
    {
     "name": "stdout",
     "output_type": "stream",
     "text": [
      "{'9': 44.0, '1': 27.0, '131': 18.0, '3': 6.0, '214': 6.0, '210': 1.0, '213': 0.0, '51': 0.0, '117': 0.0}\n"
     ]
    }
   ],
   "source": [
    "from typing import Dict, List\n",
    "import os\n",
    "import csv\n",
    "\n",
    "def calculate_constructor_points(race_data: List) -> Dict[str, float]:\n",
    "    constructor_points_dict = {}\n",
    "\n",
    "    for race in race_data[1:]:\n",
    "        constructor_id = race[3]\n",
    "        constructor_points = float(race[9])\n",
    "\n",
    "        constructor_points_dict[constructor_id] = constructor_points_dict.get(constructor_id, 0.0) + constructor_points\n",
    "    return constructor_points_dict\n",
    "\n",
    "\n",
    "\n",
    "data = \"data\"\n",
    "file_name = \"2023_race_results.csv\"\n",
    "file_path = os.path.join(\"..\", data, file_name)\n",
    "\n",
    "try:\n",
    "    with open(file_path, \"r\", encoding= 'UTF-8') as file_in:\n",
    "\n",
    "        csv_reader = csv.reader(file_in)\n",
    "        all_race_data = list(csv_reader)\n",
    "        constructor_data = calculate_constructor_points(all_race_data)\n",
    "        print(constructor_data)\n",
    "\n",
    "\n",
    "except FileNotFoundError:\n",
    "    print(f\"ERROR: File {file_name} not found\")\n",
    "except Exception as e:\n",
    "    print(f\"An error occurred: {e}\")"
   ]
  },
  {
   "cell_type": "code",
   "execution_count": 1,
   "id": "189e1751-7476-4a7a-b121-9d0d70d63ce8",
   "metadata": {},
   "outputs": [
    {
     "name": "stdout",
     "output_type": "stream",
     "text": [
      "('Red Bull', 44.0)\n",
      "('Ferrari', 27.0)\n",
      "('Mercedes', 18.0)\n",
      "('Williams', 6.0)\n",
      "('AlphaTauri', 6.0)\n",
      "('Haas F1 Team', 1.0)\n",
      "('Alpine F1 Team', 0.0)\n",
      "('Sauber', 0.0)\n",
      "('Aston Martin', 0.0)\n"
     ]
    }
   ],
   "source": [
    "from typing import Dict, List\n",
    "import os\n",
    "import csv\n",
    "\n",
    "def calculate_constructor_points(race_data: List) -> Dict[str, float]:\n",
    "    constructor_points_dict = {}\n",
    "\n",
    "    for race in race_data[1:]:\n",
    "        constructor_id = race[3]\n",
    "        constructor_points = float(race[9])\n",
    "\n",
    "        constructor_points_dict[constructor_id] = constructor_points_dict.get(constructor_id, 0.0) + constructor_points\n",
    "    return constructor_points_dict\n",
    "\n",
    "\n",
    "\n",
    "def map_ids_to_names(scores_dict: Dict[str, float], constructors_data: List[list]) -> Dict[str, float]:\n",
    "    id_to_name_map = {}\n",
    "\n",
    "    for row in constructors_data[1:]:\n",
    "        constructor_id = row[0]\n",
    "        constructor_name = row[2]\n",
    "\n",
    "        id_to_name_map[constructor_id] = constructor_name\n",
    "\n",
    "    named_scores = {}\n",
    "    for team_id, points in scores_dict.items():\n",
    "        team_name = id_to_name_map.get(team_id)\n",
    "\n",
    "        if team_name:\n",
    "            named_scores[team_name] = points\n",
    "    return named_scores\n",
    "\n",
    "\n",
    "\n",
    "data = \"data\"\n",
    "file_name_race = \"2023_race_results.csv\"\n",
    "file_name_constructors = \"constructors.csv\"\n",
    "file_path_race = os.path.join(\"..\", data, file_name_race)\n",
    "file_path_constructors = os.path.join(\"..\", data, file_name_constructors)\n",
    "\n",
    "try:\n",
    "    with open(file_path_race, \"r\", encoding= 'UTF-8') as file_in:\n",
    "\n",
    "        csv_reader = csv.reader(file_in)\n",
    "        all_race_data = list(csv_reader)\n",
    "    with open(file_path_constructors, \"r\", encoding= 'UTF-8') as file_in:\n",
    "\n",
    "        scores_by_id = calculate_constructor_points(all_race_data)\n",
    "\n",
    "        csv_read = csv.reader(file_in)\n",
    "        all_constructors_data = list(csv_read)\n",
    "\n",
    "\n",
    "        id_names_map = map_ids_to_names(scores_by_id, all_constructors_data)\n",
    "        for item in id_names_map.items():\n",
    "            print(item)\n",
    "\n",
    "\n",
    "\n",
    "\n",
    "\n",
    "except FileNotFoundError:\n",
    "    print(f\"ERROR: File {file_name_race} not found\")\n",
    "except Exception as e:\n",
    "    print(f\"An error occurred: {e}\")"
   ]
  },
  {
   "cell_type": "code",
   "execution_count": 1,
   "id": "2c5af991-4658-4b9b-b7b5-84c72acc18be",
   "metadata": {},
   "outputs": [
    {
     "name": "stdout",
     "output_type": "stream",
     "text": [
      "File 'japan_2023_drivers.csv' created successfully.\n"
     ]
    }
   ],
   "source": [
    "import os\n",
    "import csv\n",
    "\n",
    "data_folder = \"data\"\n",
    "\n",
    "input_filename = \"japan_2023_race_results.csv\"\n",
    "input_path = os.path.join(\"..\",data_folder, input_filename)\n",
    "\n",
    "output_filename = \"japan_2023_drivers.csv\"\n",
    "output_path = os.path.join(\"..\",data_folder, output_filename)\n",
    "\n",
    "try:\n",
    "\n",
    "    with open(input_path, \"r\", encoding='utf-8') as f_in:\n",
    "        with open(output_path, \"w\", encoding='utf-8') as f_out:\n",
    "\n",
    "            csv_reader = csv.reader(f_in)\n",
    "            header = next(csv_reader)\n",
    "\n",
    "            f_out.write(\"driverId,position\\n\")\n",
    "\n",
    "            for row in csv_reader:\n",
    "                driver_id = row[2]\n",
    "                position = row[6]\n",
    "\n",
    "                new_line_to_write = f\"{driver_id},{position}\\n\"\n",
    "\n",
    "                f_out.write(new_line_to_write)\n",
    "\n",
    "    print(f\"File '{output_filename}' created successfully.\")\n",
    "\n",
    "except FileNotFoundError:\n",
    "    print(f\"ERROR: File {input_filename} not found!\")\n",
    "except Exception as e:\n",
    "    print(f\"An unexpected error occurred: {e}\")"
   ]
  },
  {
   "cell_type": "code",
   "execution_count": null,
   "id": "6f007dcc-cdf0-430f-a63c-f5c4ce63c92d",
   "metadata": {},
   "outputs": [],
   "source": []
  }
 ],
 "metadata": {
  "kernelspec": {
   "display_name": "Python 3 (ipykernel)",
   "language": "python",
   "name": "python3"
  },
  "language_info": {
   "codemirror_mode": {
    "name": "ipython",
    "version": 3
   },
   "file_extension": ".py",
   "mimetype": "text/x-python",
   "name": "python",
   "nbconvert_exporter": "python",
   "pygments_lexer": "ipython3",
   "version": "3.11.13"
  }
 },
 "nbformat": 4,
 "nbformat_minor": 5
}
