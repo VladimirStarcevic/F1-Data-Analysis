{
 "cells": [
  {
   "cell_type": "code",
   "execution_count": 1,
   "id": "c1b886f6-26c8-4271-924b-ccfd9c9af3c3",
   "metadata": {},
   "outputs": [
    {
     "name": "stdout",
     "output_type": "stream",
     "text": [
      "--- HEADER ---\n",
      "['resultId', 'raceId', 'driverId', 'constructorId', 'number', 'grid', 'position', 'positionText', 'positionOrder', 'points', 'laps', 'time', 'milliseconds', 'fastestLap', 'rank', 'fastestLapTime', 'fastestLapSpeed', 'statusId']\n",
      "--------------------\n",
      "--- FIRST 5 ROWS OF DATA ---\n",
      "['25895', '1098', '830', '9', '1', '1', '1', '1', '1', '26', '57', '1:32:05.882', '5525882', '54', '3', '1:22.794', '226.741', '1']\n",
      "['25896', '1098', '815', '9', '11', '2', '2', '2', '2', '18', '57', '+5.384', '5531266', '56', '4', '1:22.868', '226.541', '1']\n",
      "['25897', '1098', '858', '1', '63', '3', '3', '3', '3', '15', '57', '+25.087', '5550969', '47', '7', '1:23.234', '225.535', '1']\n",
      "['25898', '1098', '844', '1', '16', '4', '4', '4', '4', '12', '57', '+35.676', '5561558', '42', '8', '1:23.279', '225.412', '1']\n",
      "['25899', '1098', '822', '131', '77', '10', '5', '5', '5', '10', '57', '+50.624', '5576506', '57', '1', '1:21.931', '228.916', '1']\n"
     ]
    }
   ],
   "source": [
    "import os\n",
    "import csv\n",
    "\n",
    "file_path = os.path.join('..', 'data', '2023_race_results.csv')\n",
    "\n",
    "try:\n",
    "    with open(file_path, 'r', encoding='utf-8') as f_in:\n",
    "        \n",
    "        csv_reader = csv.reader(f_in)\n",
    "        \n",
    "        \n",
    "        header = next(csv_reader)\n",
    "        print(\"--- HEADER ---\")\n",
    "        print(header)\n",
    "        print(\"-\" * 20)\n",
    "        \n",
    "        \n",
    "        print(\"--- FIRST 5 ROWS OF DATA ---\")\n",
    "        for i in range(5):\n",
    "            row = next(csv_reader)\n",
    "            print(row)\n",
    "\n",
    "except FileNotFoundError:\n",
    "    print(f\"ERROR: File not found at path '{file_path}'\")\n",
    "except Exception as e:\n",
    "    print(f\"An error occurred: {e}\")"
   ]
  },
  {
   "cell_type": "code",
   "execution_count": null,
   "id": "cfcf2872-c883-40b4-9a3e-f448acad12df",
   "metadata": {},
   "outputs": [],
   "source": []
  }
 ],
 "metadata": {
  "kernelspec": {
   "display_name": "Python 3 (ipykernel)",
   "language": "python",
   "name": "python3"
  },
  "language_info": {
   "codemirror_mode": {
    "name": "ipython",
    "version": 3
   },
   "file_extension": ".py",
   "mimetype": "text/x-python",
   "name": "python",
   "nbconvert_exporter": "python",
   "pygments_lexer": "ipython3",
   "version": "3.11.13"
  }
 },
 "nbformat": 4,
 "nbformat_minor": 5
}
